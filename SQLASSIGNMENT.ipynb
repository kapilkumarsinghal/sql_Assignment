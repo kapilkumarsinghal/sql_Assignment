{
 "cells": [
  {
   "cell_type": "code",
   "execution_count": null,
   "metadata": {},
   "outputs": [],
   "source": [
    "1. select count(snum) from SalesPeople where Sname like 'a%orA%';\n",
    "2. select * from SalesPerson where snum = (select snum from Orders where Amt>2000);\n",
    "3. select count(snum) from SalesPeople where city=\"Newyork\";\n",
    "4. select count(snum) from SalesPeople where city=\"London\" or city=\"Paris\";\n",
    "5. select count(Order.Onum),Order.Odate from SalesPeople inner join Order on SalesPeople.Snum = Order.snum;\n"
   ]
  }
 ],
 "metadata": {
  "kernelspec": {
   "display_name": "Python 3",
   "language": "python",
   "name": "python3"
  },
  "language_info": {
   "codemirror_mode": {
    "name": "ipython",
    "version": 3
   },
   "file_extension": ".py",
   "mimetype": "text/x-python",
   "name": "python",
   "nbconvert_exporter": "python",
   "pygments_lexer": "ipython3",
   "version": "3.7.6"
  }
 },
 "nbformat": 4,
 "nbformat_minor": 4
}
